{
 "cells": [
  {
   "cell_type": "code",
   "execution_count": 76,
   "metadata": {
    "_cell_guid": "b1076dfc-b9ad-4769-8c92-a6c4dae69d19",
    "_uuid": "8f2839f25d086af736a60e9eeb907d3b93b6e0e5",
    "execution": {
     "iopub.execute_input": "2022-06-19T12:55:46.498677Z",
     "iopub.status.busy": "2022-06-19T12:55:46.496231Z",
     "iopub.status.idle": "2022-06-19T12:55:47.197849Z",
     "shell.execute_reply": "2022-06-19T12:55:47.196905Z",
     "shell.execute_reply.started": "2022-06-19T12:55:46.498570Z"
    }
   },
   "outputs": [],
   "source": [
    "# This Python 3 environment comes with many helpful analytics libraries installed\n",
    "# It is defined by the kaggle/python Docker image: https://github.com/kaggle/docker-python\n",
    "# For example, here's several helpful packages to load\n",
    "\n",
    "import numpy as np # linear algebra\n",
    "import pandas as pd # data processing, CSV file I/O (e.g. pd.read_csv)\n",
    "import seaborn as sns\n",
    "import scipy as sp\n",
    "from scipy.special import logsumexp\n",
    "from sklearn.feature_extraction.text import TfidfVectorizer\n",
    "from sklearn.metrics.pairwise import cosine_similarity \n",
    "\n",
    "\n",
    "# Libraries used during sorting procedures.\n",
    "import heapq # <-- Efficient sorting of large lists\n",
    "import operator # <-- Convienient item retrieval during iteration \n",
    "\n",
    "# Input data files are available in the read-only \"../input/\" directory\n",
    "# For example, running this (by clicking run or pressing Shift+Enter) will list all files under the input directory\n",
    "\n",
    "import os\n",
    "for dirname, _, filenames in os.walk('/kaggle/input'):\n",
    "    for filename in filenames:\n",
    "        print(os.path.join(dirname, filename))\n",
    "\n",
    "# You can write up to 20GB to the current directory (/kaggle/working/) that gets preserved as output when you create a version using \"Save & Run All\" \n",
    "# You can also write temporary files to /kaggle/temp/, but they won't be saved outside of the current session"
   ]
  },
  {
   "cell_type": "code",
   "execution_count": 2,
   "metadata": {
    "execution": {
     "iopub.execute_input": "2022-06-19T12:55:47.200482Z",
     "iopub.status.busy": "2022-06-19T12:55:47.199738Z",
     "iopub.status.idle": "2022-06-19T12:55:52.890743Z",
     "shell.execute_reply": "2022-06-19T12:55:52.889781Z",
     "shell.execute_reply.started": "2022-06-19T12:55:47.200434Z"
    }
   },
   "outputs": [],
   "source": [
    "#Import the train and test sets\n",
    "train_df=pd.read_csv(\"trainOld.csv\")\n",
    "test_df=pd.read_csv(\"test.csv\")"
   ]
  },
  {
   "cell_type": "code",
   "execution_count": 3,
   "metadata": {
    "execution": {
     "iopub.execute_input": "2022-06-19T12:55:52.892246Z",
     "iopub.status.busy": "2022-06-19T12:55:52.891908Z",
     "iopub.status.idle": "2022-06-19T12:55:52.909495Z",
     "shell.execute_reply": "2022-06-19T12:55:52.908362Z",
     "shell.execute_reply.started": "2022-06-19T12:55:52.892217Z"
    }
   },
   "outputs": [
    {
     "data": {
      "text/html": [
       "<div>\n",
       "<style scoped>\n",
       "    .dataframe tbody tr th:only-of-type {\n",
       "        vertical-align: middle;\n",
       "    }\n",
       "\n",
       "    .dataframe tbody tr th {\n",
       "        vertical-align: top;\n",
       "    }\n",
       "\n",
       "    .dataframe thead th {\n",
       "        text-align: right;\n",
       "    }\n",
       "</style>\n",
       "<table border=\"1\" class=\"dataframe\">\n",
       "  <thead>\n",
       "    <tr style=\"text-align: right;\">\n",
       "      <th></th>\n",
       "      <th>userId</th>\n",
       "      <th>movieId</th>\n",
       "      <th>rating</th>\n",
       "      <th>timestamp</th>\n",
       "    </tr>\n",
       "  </thead>\n",
       "  <tbody>\n",
       "    <tr>\n",
       "      <th>0</th>\n",
       "      <td>5163</td>\n",
       "      <td>57669</td>\n",
       "      <td>4.0</td>\n",
       "      <td>1518349992</td>\n",
       "    </tr>\n",
       "    <tr>\n",
       "      <th>1</th>\n",
       "      <td>106343</td>\n",
       "      <td>5</td>\n",
       "      <td>4.5</td>\n",
       "      <td>1206238739</td>\n",
       "    </tr>\n",
       "    <tr>\n",
       "      <th>2</th>\n",
       "      <td>146790</td>\n",
       "      <td>5459</td>\n",
       "      <td>5.0</td>\n",
       "      <td>1076215539</td>\n",
       "    </tr>\n",
       "    <tr>\n",
       "      <th>3</th>\n",
       "      <td>106362</td>\n",
       "      <td>32296</td>\n",
       "      <td>2.0</td>\n",
       "      <td>1423042565</td>\n",
       "    </tr>\n",
       "    <tr>\n",
       "      <th>4</th>\n",
       "      <td>9041</td>\n",
       "      <td>366</td>\n",
       "      <td>3.0</td>\n",
       "      <td>833375837</td>\n",
       "    </tr>\n",
       "  </tbody>\n",
       "</table>\n",
       "</div>"
      ],
      "text/plain": [
       "   userId  movieId  rating   timestamp\n",
       "0    5163    57669     4.0  1518349992\n",
       "1  106343        5     4.5  1206238739\n",
       "2  146790     5459     5.0  1076215539\n",
       "3  106362    32296     2.0  1423042565\n",
       "4    9041      366     3.0   833375837"
      ]
     },
     "execution_count": 3,
     "metadata": {},
     "output_type": "execute_result"
    }
   ],
   "source": [
    "#Glance at train\n",
    "train_df.head()"
   ]
  },
  {
   "cell_type": "code",
   "execution_count": 4,
   "metadata": {
    "execution": {
     "iopub.execute_input": "2022-06-19T12:55:52.912644Z",
     "iopub.status.busy": "2022-06-19T12:55:52.912081Z",
     "iopub.status.idle": "2022-06-19T12:55:52.924161Z",
     "shell.execute_reply": "2022-06-19T12:55:52.923136Z",
     "shell.execute_reply.started": "2022-06-19T12:55:52.912608Z"
    }
   },
   "outputs": [
    {
     "data": {
      "text/html": [
       "<div>\n",
       "<style scoped>\n",
       "    .dataframe tbody tr th:only-of-type {\n",
       "        vertical-align: middle;\n",
       "    }\n",
       "\n",
       "    .dataframe tbody tr th {\n",
       "        vertical-align: top;\n",
       "    }\n",
       "\n",
       "    .dataframe thead th {\n",
       "        text-align: right;\n",
       "    }\n",
       "</style>\n",
       "<table border=\"1\" class=\"dataframe\">\n",
       "  <thead>\n",
       "    <tr style=\"text-align: right;\">\n",
       "      <th></th>\n",
       "      <th>userId</th>\n",
       "      <th>movieId</th>\n",
       "    </tr>\n",
       "  </thead>\n",
       "  <tbody>\n",
       "    <tr>\n",
       "      <th>0</th>\n",
       "      <td>5</td>\n",
       "      <td>788</td>\n",
       "    </tr>\n",
       "    <tr>\n",
       "      <th>1</th>\n",
       "      <td>68</td>\n",
       "      <td>7438</td>\n",
       "    </tr>\n",
       "    <tr>\n",
       "      <th>2</th>\n",
       "      <td>336</td>\n",
       "      <td>40412</td>\n",
       "    </tr>\n",
       "    <tr>\n",
       "      <th>3</th>\n",
       "      <td>803</td>\n",
       "      <td>3822</td>\n",
       "    </tr>\n",
       "    <tr>\n",
       "      <th>4</th>\n",
       "      <td>547</td>\n",
       "      <td>903</td>\n",
       "    </tr>\n",
       "  </tbody>\n",
       "</table>\n",
       "</div>"
      ],
      "text/plain": [
       "   userId  movieId\n",
       "0       5      788\n",
       "1      68     7438\n",
       "2     336    40412\n",
       "3     803     3822\n",
       "4     547      903"
      ]
     },
     "execution_count": 4,
     "metadata": {},
     "output_type": "execute_result"
    }
   ],
   "source": [
    "#Glance at test\n",
    "test_df.head()"
   ]
  },
  {
   "cell_type": "code",
   "execution_count": 5,
   "metadata": {
    "execution": {
     "iopub.execute_input": "2022-06-19T12:55:52.925713Z",
     "iopub.status.busy": "2022-06-19T12:55:52.925399Z",
     "iopub.status.idle": "2022-06-19T12:55:53.033403Z",
     "shell.execute_reply": "2022-06-19T12:55:53.032495Z",
     "shell.execute_reply.started": "2022-06-19T12:55:52.925685Z"
    }
   },
   "outputs": [],
   "source": [
    "#Drop timestamp\n",
    "train_df=train_df.drop([\"timestamp\"],axis=1)"
   ]
  },
  {
   "cell_type": "code",
   "execution_count": 6,
   "metadata": {
    "execution": {
     "iopub.execute_input": "2022-06-19T12:55:53.035361Z",
     "iopub.status.busy": "2022-06-19T12:55:53.034929Z",
     "iopub.status.idle": "2022-06-19T12:55:53.544322Z",
     "shell.execute_reply": "2022-06-19T12:55:53.543382Z",
     "shell.execute_reply.started": "2022-06-19T12:55:53.035319Z"
    }
   },
   "outputs": [],
   "source": [
    "sampled_df=train_df.sample(n=20000,random_state=2023)"
   ]
  },
  {
   "cell_type": "code",
   "execution_count": 7,
   "metadata": {
    "execution": {
     "iopub.execute_input": "2022-06-19T12:55:53.545775Z",
     "iopub.status.busy": "2022-06-19T12:55:53.545441Z",
     "iopub.status.idle": "2022-06-19T12:55:53.930858Z",
     "shell.execute_reply": "2022-06-19T12:55:53.929746Z",
     "shell.execute_reply.started": "2022-06-19T12:55:53.545746Z"
    }
   },
   "outputs": [
    {
     "name": "stderr",
     "output_type": "stream",
     "text": [
      "C:\\ProgramData\\Anaconda3\\lib\\site-packages\\seaborn\\categorical.py:3717: UserWarning: The `factorplot` function has been renamed to `catplot`. The original name will be removed in a future release. Please update your code. Note that the default `kind` in `factorplot` (`'point'`) has changed `'strip'` in `catplot`.\n",
      "  warnings.warn(msg)\n",
      "C:\\ProgramData\\Anaconda3\\lib\\site-packages\\seaborn\\_decorators.py:36: FutureWarning: Pass the following variable as a keyword arg: x. From version 0.12, the only valid positional argument will be `data`, and passing other arguments without an explicit keyword will result in an error or misinterpretation.\n",
      "  warnings.warn(\n"
     ]
    },
    {
     "name": "stdout",
     "output_type": "stream",
     "text": [
      "Average rating in dataset: 3.5199\n"
     ]
    },
    {
     "data": {
      "image/png": "[encoded data removed]",
      "text/plain": [
       "<Figure size 720x360 with 1 Axes>"
      ]
     },
     "metadata": {},
     "output_type": "display_data"
    }
   ],
   "source": [
    "with sns.axes_style('white'):\n",
    "    g = sns.factorplot(\"rating\", data=sampled_df, aspect=2.0,kind='count')\n",
    "    g.set_ylabels(\"Total number of ratings\")\n",
    "print (f'Average rating in dataset: {np.mean(sampled_df[\"rating\"])}')"
   ]
  },
  {
   "cell_type": "code",
   "execution_count": 8,
   "metadata": {
    "execution": {
     "iopub.execute_input": "2022-06-19T12:55:53.932389Z",
     "iopub.status.busy": "2022-06-19T12:55:53.932058Z",
     "iopub.status.idle": "2022-06-19T12:56:02.971799Z",
     "shell.execute_reply": "2022-06-19T12:56:02.970821Z",
     "shell.execute_reply.started": "2022-06-19T12:55:53.932350Z"
    }
   },
   "outputs": [],
   "source": [
    "util_matrix = sampled_df.pivot_table(index=['userId'], \n",
    "                                       columns=['movieId'],\n",
    "                                       values='rating',\n",
    "                                    fill_value=0,\n",
    "                                    aggfunc='mean') "
   ]
  },
  {
   "cell_type": "code",
   "execution_count": 9,
   "metadata": {
    "execution": {
     "iopub.execute_input": "2022-06-19T12:56:02.973731Z",
     "iopub.status.busy": "2022-06-19T12:56:02.973246Z",
     "iopub.status.idle": "2022-06-19T12:56:03.009936Z",
     "shell.execute_reply": "2022-06-19T12:56:03.009091Z",
     "shell.execute_reply.started": "2022-06-19T12:56:02.973697Z"
    }
   },
   "outputs": [
    {
     "data": {
      "text/html": [
       "<div>\n",
       "<style scoped>\n",
       "    .dataframe tbody tr th:only-of-type {\n",
       "        vertical-align: middle;\n",
       "    }\n",
       "\n",
       "    .dataframe tbody tr th {\n",
       "        vertical-align: top;\n",
       "    }\n",
       "\n",
       "    .dataframe thead th {\n",
       "        text-align: right;\n",
       "    }\n",
       "</style>\n",
       "<table border=\"1\" class=\"dataframe\">\n",
       "  <thead>\n",
       "    <tr style=\"text-align: right;\">\n",
       "      <th>movieId</th>\n",
       "      <th>1</th>\n",
       "      <th>2</th>\n",
       "      <th>3</th>\n",
       "      <th>4</th>\n",
       "      <th>5</th>\n",
       "      <th>6</th>\n",
       "      <th>7</th>\n",
       "      <th>8</th>\n",
       "      <th>9</th>\n",
       "      <th>10</th>\n",
       "      <th>...</th>\n",
       "      <th>202073</th>\n",
       "      <th>202103</th>\n",
       "      <th>202329</th>\n",
       "      <th>202439</th>\n",
       "      <th>203853</th>\n",
       "      <th>204318</th>\n",
       "      <th>204698</th>\n",
       "      <th>204878</th>\n",
       "      <th>205383</th>\n",
       "      <th>206497</th>\n",
       "    </tr>\n",
       "    <tr>\n",
       "      <th>userId</th>\n",
       "      <th></th>\n",
       "      <th></th>\n",
       "      <th></th>\n",
       "      <th></th>\n",
       "      <th></th>\n",
       "      <th></th>\n",
       "      <th></th>\n",
       "      <th></th>\n",
       "      <th></th>\n",
       "      <th></th>\n",
       "      <th></th>\n",
       "      <th></th>\n",
       "      <th></th>\n",
       "      <th></th>\n",
       "      <th></th>\n",
       "      <th></th>\n",
       "      <th></th>\n",
       "      <th></th>\n",
       "      <th></th>\n",
       "      <th></th>\n",
       "      <th></th>\n",
       "    </tr>\n",
       "  </thead>\n",
       "  <tbody>\n",
       "    <tr>\n",
       "      <th>1</th>\n",
       "      <td>0.0</td>\n",
       "      <td>0.0</td>\n",
       "      <td>0.0</td>\n",
       "      <td>0</td>\n",
       "      <td>0.0</td>\n",
       "      <td>0.0</td>\n",
       "      <td>0</td>\n",
       "      <td>0</td>\n",
       "      <td>0</td>\n",
       "      <td>0.0</td>\n",
       "      <td>...</td>\n",
       "      <td>0</td>\n",
       "      <td>0.0</td>\n",
       "      <td>0.0</td>\n",
       "      <td>0.0</td>\n",
       "      <td>0.0</td>\n",
       "      <td>0.0</td>\n",
       "      <td>0</td>\n",
       "      <td>0.0</td>\n",
       "      <td>0.0</td>\n",
       "      <td>0</td>\n",
       "    </tr>\n",
       "    <tr>\n",
       "      <th>3</th>\n",
       "      <td>0.0</td>\n",
       "      <td>0.0</td>\n",
       "      <td>0.0</td>\n",
       "      <td>0</td>\n",
       "      <td>0.0</td>\n",
       "      <td>0.0</td>\n",
       "      <td>0</td>\n",
       "      <td>0</td>\n",
       "      <td>0</td>\n",
       "      <td>0.0</td>\n",
       "      <td>...</td>\n",
       "      <td>0</td>\n",
       "      <td>0.0</td>\n",
       "      <td>0.0</td>\n",
       "      <td>0.0</td>\n",
       "      <td>0.0</td>\n",
       "      <td>0.0</td>\n",
       "      <td>0</td>\n",
       "      <td>0.0</td>\n",
       "      <td>0.0</td>\n",
       "      <td>0</td>\n",
       "    </tr>\n",
       "    <tr>\n",
       "      <th>13</th>\n",
       "      <td>0.0</td>\n",
       "      <td>0.0</td>\n",
       "      <td>0.0</td>\n",
       "      <td>0</td>\n",
       "      <td>0.0</td>\n",
       "      <td>0.0</td>\n",
       "      <td>0</td>\n",
       "      <td>0</td>\n",
       "      <td>0</td>\n",
       "      <td>0.0</td>\n",
       "      <td>...</td>\n",
       "      <td>0</td>\n",
       "      <td>0.0</td>\n",
       "      <td>0.0</td>\n",
       "      <td>0.0</td>\n",
       "      <td>0.0</td>\n",
       "      <td>0.0</td>\n",
       "      <td>0</td>\n",
       "      <td>0.0</td>\n",
       "      <td>0.0</td>\n",
       "      <td>0</td>\n",
       "    </tr>\n",
       "    <tr>\n",
       "      <th>15</th>\n",
       "      <td>0.0</td>\n",
       "      <td>0.0</td>\n",
       "      <td>0.0</td>\n",
       "      <td>0</td>\n",
       "      <td>0.0</td>\n",
       "      <td>0.0</td>\n",
       "      <td>0</td>\n",
       "      <td>0</td>\n",
       "      <td>0</td>\n",
       "      <td>0.0</td>\n",
       "      <td>...</td>\n",
       "      <td>0</td>\n",
       "      <td>0.0</td>\n",
       "      <td>0.0</td>\n",
       "      <td>0.0</td>\n",
       "      <td>0.0</td>\n",
       "      <td>0.0</td>\n",
       "      <td>0</td>\n",
       "      <td>0.0</td>\n",
       "      <td>0.0</td>\n",
       "      <td>0</td>\n",
       "    </tr>\n",
       "    <tr>\n",
       "      <th>41</th>\n",
       "      <td>0.0</td>\n",
       "      <td>0.0</td>\n",
       "      <td>0.0</td>\n",
       "      <td>0</td>\n",
       "      <td>0.0</td>\n",
       "      <td>0.0</td>\n",
       "      <td>0</td>\n",
       "      <td>0</td>\n",
       "      <td>0</td>\n",
       "      <td>0.0</td>\n",
       "      <td>...</td>\n",
       "      <td>0</td>\n",
       "      <td>0.0</td>\n",
       "      <td>0.0</td>\n",
       "      <td>0.0</td>\n",
       "      <td>0.0</td>\n",
       "      <td>0.0</td>\n",
       "      <td>0</td>\n",
       "      <td>0.0</td>\n",
       "      <td>0.0</td>\n",
       "      <td>0</td>\n",
       "    </tr>\n",
       "    <tr>\n",
       "      <th>...</th>\n",
       "      <td>...</td>\n",
       "      <td>...</td>\n",
       "      <td>...</td>\n",
       "      <td>...</td>\n",
       "      <td>...</td>\n",
       "      <td>...</td>\n",
       "      <td>...</td>\n",
       "      <td>...</td>\n",
       "      <td>...</td>\n",
       "      <td>...</td>\n",
       "      <td>...</td>\n",
       "      <td>...</td>\n",
       "      <td>...</td>\n",
       "      <td>...</td>\n",
       "      <td>...</td>\n",
       "      <td>...</td>\n",
       "      <td>...</td>\n",
       "      <td>...</td>\n",
       "      <td>...</td>\n",
       "      <td>...</td>\n",
       "      <td>...</td>\n",
       "    </tr>\n",
       "    <tr>\n",
       "      <th>162495</th>\n",
       "      <td>0.0</td>\n",
       "      <td>0.0</td>\n",
       "      <td>0.0</td>\n",
       "      <td>0</td>\n",
       "      <td>0.0</td>\n",
       "      <td>0.0</td>\n",
       "      <td>0</td>\n",
       "      <td>0</td>\n",
       "      <td>0</td>\n",
       "      <td>0.0</td>\n",
       "      <td>...</td>\n",
       "      <td>0</td>\n",
       "      <td>0.0</td>\n",
       "      <td>0.0</td>\n",
       "      <td>0.0</td>\n",
       "      <td>0.0</td>\n",
       "      <td>0.0</td>\n",
       "      <td>0</td>\n",
       "      <td>0.0</td>\n",
       "      <td>0.0</td>\n",
       "      <td>0</td>\n",
       "    </tr>\n",
       "    <tr>\n",
       "      <th>162508</th>\n",
       "      <td>0.0</td>\n",
       "      <td>0.0</td>\n",
       "      <td>0.0</td>\n",
       "      <td>0</td>\n",
       "      <td>0.0</td>\n",
       "      <td>0.0</td>\n",
       "      <td>0</td>\n",
       "      <td>0</td>\n",
       "      <td>0</td>\n",
       "      <td>0.0</td>\n",
       "      <td>...</td>\n",
       "      <td>0</td>\n",
       "      <td>0.0</td>\n",
       "      <td>0.0</td>\n",
       "      <td>0.0</td>\n",
       "      <td>0.0</td>\n",
       "      <td>0.0</td>\n",
       "      <td>0</td>\n",
       "      <td>0.0</td>\n",
       "      <td>0.0</td>\n",
       "      <td>0</td>\n",
       "    </tr>\n",
       "    <tr>\n",
       "      <th>162512</th>\n",
       "      <td>0.0</td>\n",
       "      <td>0.0</td>\n",
       "      <td>0.0</td>\n",
       "      <td>0</td>\n",
       "      <td>0.0</td>\n",
       "      <td>0.0</td>\n",
       "      <td>0</td>\n",
       "      <td>0</td>\n",
       "      <td>0</td>\n",
       "      <td>0.0</td>\n",
       "      <td>...</td>\n",
       "      <td>0</td>\n",
       "      <td>0.0</td>\n",
       "      <td>0.0</td>\n",
       "      <td>0.0</td>\n",
       "      <td>0.0</td>\n",
       "      <td>0.0</td>\n",
       "      <td>0</td>\n",
       "      <td>0.0</td>\n",
       "      <td>0.0</td>\n",
       "      <td>0</td>\n",
       "    </tr>\n",
       "    <tr>\n",
       "      <th>162536</th>\n",
       "      <td>0.0</td>\n",
       "      <td>0.0</td>\n",
       "      <td>0.0</td>\n",
       "      <td>0</td>\n",
       "      <td>0.0</td>\n",
       "      <td>0.0</td>\n",
       "      <td>0</td>\n",
       "      <td>0</td>\n",
       "      <td>0</td>\n",
       "      <td>0.0</td>\n",
       "      <td>...</td>\n",
       "      <td>0</td>\n",
       "      <td>0.0</td>\n",
       "      <td>0.0</td>\n",
       "      <td>0.0</td>\n",
       "      <td>0.0</td>\n",
       "      <td>0.0</td>\n",
       "      <td>0</td>\n",
       "      <td>0.0</td>\n",
       "      <td>0.0</td>\n",
       "      <td>0</td>\n",
       "    </tr>\n",
       "    <tr>\n",
       "      <th>162538</th>\n",
       "      <td>2.0</td>\n",
       "      <td>0.0</td>\n",
       "      <td>0.0</td>\n",
       "      <td>0</td>\n",
       "      <td>0.0</td>\n",
       "      <td>0.0</td>\n",
       "      <td>0</td>\n",
       "      <td>0</td>\n",
       "      <td>0</td>\n",
       "      <td>0.0</td>\n",
       "      <td>...</td>\n",
       "      <td>0</td>\n",
       "      <td>0.0</td>\n",
       "      <td>0.0</td>\n",
       "      <td>0.0</td>\n",
       "      <td>0.0</td>\n",
       "      <td>0.0</td>\n",
       "      <td>0</td>\n",
       "      <td>0.0</td>\n",
       "      <td>0.0</td>\n",
       "      <td>0</td>\n",
       "    </tr>\n",
       "  </tbody>\n",
       "</table>\n",
       "<p>16631 rows × 5201 columns</p>\n",
       "</div>"
      ],
      "text/plain": [
       "movieId  1       2       3       4       5       6       7       8       \\\n",
       "userId                                                                    \n",
       "1           0.0     0.0     0.0       0     0.0     0.0       0       0   \n",
       "3           0.0     0.0     0.0       0     0.0     0.0       0       0   \n",
       "13          0.0     0.0     0.0       0     0.0     0.0       0       0   \n",
       "15          0.0     0.0     0.0       0     0.0     0.0       0       0   \n",
       "41          0.0     0.0     0.0       0     0.0     0.0       0       0   \n",
       "...         ...     ...     ...     ...     ...     ...     ...     ...   \n",
       "162495      0.0     0.0     0.0       0     0.0     0.0       0       0   \n",
       "162508      0.0     0.0     0.0       0     0.0     0.0       0       0   \n",
       "162512      0.0     0.0     0.0       0     0.0     0.0       0       0   \n",
       "162536      0.0     0.0     0.0       0     0.0     0.0       0       0   \n",
       "162538      2.0     0.0     0.0       0     0.0     0.0       0       0   \n",
       "\n",
       "movieId  9       10      ...  202073  202103  202329  202439  203853  204318  \\\n",
       "userId                   ...                                                   \n",
       "1             0     0.0  ...       0     0.0     0.0     0.0     0.0     0.0   \n",
       "3             0     0.0  ...       0     0.0     0.0     0.0     0.0     0.0   \n",
       "13            0     0.0  ...       0     0.0     0.0     0.0     0.0     0.0   \n",
       "15            0     0.0  ...       0     0.0     0.0     0.0     0.0     0.0   \n",
       "41            0     0.0  ...       0     0.0     0.0     0.0     0.0     0.0   \n",
       "...         ...     ...  ...     ...     ...     ...     ...     ...     ...   \n",
       "162495        0     0.0  ...       0     0.0     0.0     0.0     0.0     0.0   \n",
       "162508        0     0.0  ...       0     0.0     0.0     0.0     0.0     0.0   \n",
       "162512        0     0.0  ...       0     0.0     0.0     0.0     0.0     0.0   \n",
       "162536        0     0.0  ...       0     0.0     0.0     0.0     0.0     0.0   \n",
       "162538        0     0.0  ...       0     0.0     0.0     0.0     0.0     0.0   \n",
       "\n",
       "movieId  204698  204878  205383  206497  \n",
       "userId                                   \n",
       "1             0     0.0     0.0       0  \n",
       "3             0     0.0     0.0       0  \n",
       "13            0     0.0     0.0       0  \n",
       "15            0     0.0     0.0       0  \n",
       "41            0     0.0     0.0       0  \n",
       "...         ...     ...     ...     ...  \n",
       "162495        0     0.0     0.0       0  \n",
       "162508        0     0.0     0.0       0  \n",
       "162512        0     0.0     0.0       0  \n",
       "162536        0     0.0     0.0       0  \n",
       "162538        0     0.0     0.0       0  \n",
       "\n",
       "[16631 rows x 5201 columns]"
      ]
     },
     "execution_count": 9,
     "metadata": {},
     "output_type": "execute_result"
    }
   ],
   "source": [
    "util_matrix "
   ]
  },
  {
   "cell_type": "code",
   "execution_count": 10,
   "metadata": {
    "execution": {
     "iopub.execute_input": "2022-06-19T12:56:03.012527Z",
     "iopub.status.busy": "2022-06-19T12:56:03.012214Z",
     "iopub.status.idle": "2022-06-19T12:56:04.184699Z",
     "shell.execute_reply": "2022-06-19T12:56:04.183808Z",
     "shell.execute_reply.started": "2022-06-19T12:56:03.012498Z"
    }
   },
   "outputs": [],
   "source": [
    "util_matrix_T= util_matrix.T\n",
    "util_matrix_T = util_matrix_T.loc[:, (util_matrix_T != 0).any(axis=0)]\n",
    "# Save the utility matrix in scipy's sparse matrix format\n",
    "util_matrix_sparse = sp.sparse.csr_matrix(util_matrix_T.values)"
   ]
  },
  {
   "cell_type": "code",
   "execution_count": 11,
   "metadata": {
    "execution": {
     "iopub.execute_input": "2022-06-19T12:56:04.186353Z",
     "iopub.status.busy": "2022-06-19T12:56:04.185928Z",
     "iopub.status.idle": "2022-06-19T12:56:05.095657Z",
     "shell.execute_reply": "2022-06-19T12:56:05.094767Z",
     "shell.execute_reply.started": "2022-06-19T12:56:04.186319Z"
    }
   },
   "outputs": [
    {
     "data": {
      "text/html": [
       "<div>\n",
       "<style scoped>\n",
       "    .dataframe tbody tr th:only-of-type {\n",
       "        vertical-align: middle;\n",
       "    }\n",
       "\n",
       "    .dataframe tbody tr th {\n",
       "        vertical-align: top;\n",
       "    }\n",
       "\n",
       "    .dataframe thead th {\n",
       "        text-align: right;\n",
       "    }\n",
       "</style>\n",
       "<table border=\"1\" class=\"dataframe\">\n",
       "  <thead>\n",
       "    <tr style=\"text-align: right;\">\n",
       "      <th>userId</th>\n",
       "      <th>1</th>\n",
       "      <th>3</th>\n",
       "      <th>13</th>\n",
       "      <th>15</th>\n",
       "      <th>41</th>\n",
       "      <th>43</th>\n",
       "      <th>61</th>\n",
       "      <th>80</th>\n",
       "      <th>82</th>\n",
       "      <th>84</th>\n",
       "      <th>...</th>\n",
       "      <th>162457</th>\n",
       "      <th>162465</th>\n",
       "      <th>162467</th>\n",
       "      <th>162482</th>\n",
       "      <th>162484</th>\n",
       "      <th>162495</th>\n",
       "      <th>162508</th>\n",
       "      <th>162512</th>\n",
       "      <th>162536</th>\n",
       "      <th>162538</th>\n",
       "    </tr>\n",
       "    <tr>\n",
       "      <th>userId</th>\n",
       "      <th></th>\n",
       "      <th></th>\n",
       "      <th></th>\n",
       "      <th></th>\n",
       "      <th></th>\n",
       "      <th></th>\n",
       "      <th></th>\n",
       "      <th></th>\n",
       "      <th></th>\n",
       "      <th></th>\n",
       "      <th></th>\n",
       "      <th></th>\n",
       "      <th></th>\n",
       "      <th></th>\n",
       "      <th></th>\n",
       "      <th></th>\n",
       "      <th></th>\n",
       "      <th></th>\n",
       "      <th></th>\n",
       "      <th></th>\n",
       "      <th></th>\n",
       "    </tr>\n",
       "  </thead>\n",
       "  <tbody>\n",
       "    <tr>\n",
       "      <th>1</th>\n",
       "      <td>1.0</td>\n",
       "      <td>0.0</td>\n",
       "      <td>0.0</td>\n",
       "      <td>0.0</td>\n",
       "      <td>0.0</td>\n",
       "      <td>0.0</td>\n",
       "      <td>0.0</td>\n",
       "      <td>0.0</td>\n",
       "      <td>0.0</td>\n",
       "      <td>0.0</td>\n",
       "      <td>...</td>\n",
       "      <td>0.0</td>\n",
       "      <td>0.0</td>\n",
       "      <td>0.0</td>\n",
       "      <td>0.0</td>\n",
       "      <td>0.0</td>\n",
       "      <td>0.0</td>\n",
       "      <td>0.0</td>\n",
       "      <td>0.0</td>\n",
       "      <td>0.0</td>\n",
       "      <td>0.0</td>\n",
       "    </tr>\n",
       "    <tr>\n",
       "      <th>3</th>\n",
       "      <td>0.0</td>\n",
       "      <td>1.0</td>\n",
       "      <td>0.0</td>\n",
       "      <td>0.0</td>\n",
       "      <td>0.0</td>\n",
       "      <td>0.0</td>\n",
       "      <td>0.0</td>\n",
       "      <td>0.0</td>\n",
       "      <td>0.0</td>\n",
       "      <td>0.0</td>\n",
       "      <td>...</td>\n",
       "      <td>0.0</td>\n",
       "      <td>0.0</td>\n",
       "      <td>0.0</td>\n",
       "      <td>0.0</td>\n",
       "      <td>0.0</td>\n",
       "      <td>0.0</td>\n",
       "      <td>0.0</td>\n",
       "      <td>0.0</td>\n",
       "      <td>0.0</td>\n",
       "      <td>0.0</td>\n",
       "    </tr>\n",
       "    <tr>\n",
       "      <th>13</th>\n",
       "      <td>0.0</td>\n",
       "      <td>0.0</td>\n",
       "      <td>1.0</td>\n",
       "      <td>0.0</td>\n",
       "      <td>0.0</td>\n",
       "      <td>0.0</td>\n",
       "      <td>0.0</td>\n",
       "      <td>0.0</td>\n",
       "      <td>0.0</td>\n",
       "      <td>0.0</td>\n",
       "      <td>...</td>\n",
       "      <td>0.0</td>\n",
       "      <td>0.0</td>\n",
       "      <td>0.0</td>\n",
       "      <td>0.0</td>\n",
       "      <td>0.0</td>\n",
       "      <td>0.0</td>\n",
       "      <td>0.0</td>\n",
       "      <td>0.0</td>\n",
       "      <td>0.0</td>\n",
       "      <td>0.0</td>\n",
       "    </tr>\n",
       "    <tr>\n",
       "      <th>15</th>\n",
       "      <td>0.0</td>\n",
       "      <td>0.0</td>\n",
       "      <td>0.0</td>\n",
       "      <td>1.0</td>\n",
       "      <td>0.0</td>\n",
       "      <td>0.0</td>\n",
       "      <td>0.0</td>\n",
       "      <td>0.0</td>\n",
       "      <td>0.0</td>\n",
       "      <td>0.0</td>\n",
       "      <td>...</td>\n",
       "      <td>0.0</td>\n",
       "      <td>0.0</td>\n",
       "      <td>0.0</td>\n",
       "      <td>0.0</td>\n",
       "      <td>0.0</td>\n",
       "      <td>0.0</td>\n",
       "      <td>0.0</td>\n",
       "      <td>0.0</td>\n",
       "      <td>0.0</td>\n",
       "      <td>0.0</td>\n",
       "    </tr>\n",
       "    <tr>\n",
       "      <th>41</th>\n",
       "      <td>0.0</td>\n",
       "      <td>0.0</td>\n",
       "      <td>0.0</td>\n",
       "      <td>0.0</td>\n",
       "      <td>1.0</td>\n",
       "      <td>0.0</td>\n",
       "      <td>0.0</td>\n",
       "      <td>0.0</td>\n",
       "      <td>0.0</td>\n",
       "      <td>0.0</td>\n",
       "      <td>...</td>\n",
       "      <td>0.0</td>\n",
       "      <td>0.0</td>\n",
       "      <td>0.0</td>\n",
       "      <td>0.0</td>\n",
       "      <td>0.0</td>\n",
       "      <td>0.0</td>\n",
       "      <td>0.0</td>\n",
       "      <td>0.0</td>\n",
       "      <td>0.0</td>\n",
       "      <td>0.0</td>\n",
       "    </tr>\n",
       "  </tbody>\n",
       "</table>\n",
       "<p>5 rows × 16631 columns</p>\n",
       "</div>"
      ],
      "text/plain": [
       "userId  1       3       13      15      41      43      61      80      \\\n",
       "userId                                                                   \n",
       "1          1.0     0.0     0.0     0.0     0.0     0.0     0.0     0.0   \n",
       "3          0.0     1.0     0.0     0.0     0.0     0.0     0.0     0.0   \n",
       "13         0.0     0.0     1.0     0.0     0.0     0.0     0.0     0.0   \n",
       "15         0.0     0.0     0.0     1.0     0.0     0.0     0.0     0.0   \n",
       "41         0.0     0.0     0.0     0.0     1.0     0.0     0.0     0.0   \n",
       "\n",
       "userId  82      84      ...  162457  162465  162467  162482  162484  162495  \\\n",
       "userId                  ...                                                   \n",
       "1          0.0     0.0  ...     0.0     0.0     0.0     0.0     0.0     0.0   \n",
       "3          0.0     0.0  ...     0.0     0.0     0.0     0.0     0.0     0.0   \n",
       "13         0.0     0.0  ...     0.0     0.0     0.0     0.0     0.0     0.0   \n",
       "15         0.0     0.0  ...     0.0     0.0     0.0     0.0     0.0     0.0   \n",
       "41         0.0     0.0  ...     0.0     0.0     0.0     0.0     0.0     0.0   \n",
       "\n",
       "userId  162508  162512  162536  162538  \n",
       "userId                                  \n",
       "1          0.0     0.0     0.0     0.0  \n",
       "3          0.0     0.0     0.0     0.0  \n",
       "13         0.0     0.0     0.0     0.0  \n",
       "15         0.0     0.0     0.0     0.0  \n",
       "41         0.0     0.0     0.0     0.0  \n",
       "\n",
       "[5 rows x 16631 columns]"
      ]
     },
     "execution_count": 11,
     "metadata": {},
     "output_type": "execute_result"
    }
   ],
   "source": [
    "# Compute the similarity matrix using the cosine similarity metric\n",
    "user_similarity = cosine_similarity(util_matrix_sparse.T)\n",
    "# Save the matrix as a dataframe to allow for easier indexing  \n",
    "user_sim_df = pd.DataFrame(user_similarity, \n",
    "                           index = util_matrix_T.columns, \n",
    "                           columns = util_matrix_T.columns)\n",
    "\n",
    "# Review a small portion of the constructed similartiy matrix  \n",
    "user_sim_df[:5]"
   ]
  },
  {
   "cell_type": "code",
   "execution_count": 12,
   "metadata": {
    "execution": {
     "iopub.execute_input": "2022-06-19T12:56:05.097077Z",
     "iopub.status.busy": "2022-06-19T12:56:05.096747Z",
     "iopub.status.idle": "2022-06-19T12:56:05.105944Z",
     "shell.execute_reply": "2022-06-19T12:56:05.105289Z",
     "shell.execute_reply.started": "2022-06-19T12:56:05.097027Z"
    }
   },
   "outputs": [],
   "source": [
    "def collab_generate_top_N_recommendations(userId, N=10, k=20):\n",
    "    # Cold-start problem - no ratings given by the reference user. \n",
    "    # With no further user data, we solve this by simply recommending\n",
    "    # the top-N most popular books in the item catalog. \n",
    "    if userId not in user_sim_df.columns:\n",
    "        return train_df.groupby('movieId').mean().sort_values(by='rating',\n",
    "                                        ascending=False).index[:N].to_list()\n",
    "    \n",
    "    # Gather the k users which are most similar to the reference user \n",
    "    sim_users = user_sim_df.sort_values(by=userId, ascending=False).index[1:k+1]\n",
    "    favorite_user_items = [] # <-- List of highest rated items gathered from the k users  \n",
    "    most_common_favorites = {} # <-- Dictionary of highest rated items in common for the k users\n",
    "    \n",
    "    for i in sim_users:\n",
    "        # Maximum rating given by the current user to an item \n",
    "        max_score = util_matrix_T.loc[:, i].max()\n",
    "        # Save the names of items maximally rated by the current user   \n",
    "        favorite_user_items.append(util_matrix_T[util_matrix_T.loc[:, i]==max_score].index.tolist())\n",
    "        \n",
    "    # Loop over each user's favorite items and tally which ones are \n",
    "    # most popular overall.\n",
    "    for item_collection in range(len(favorite_user_items)):\n",
    "        for item in favorite_user_items[item_collection]: \n",
    "            if item in most_common_favorites:\n",
    "                most_common_favorites[item] += 1\n",
    "            else:\n",
    "                most_common_favorites[item] = 1\n",
    "    # Sort the overall most popular items and return the top-N instances\n",
    "    sorted_list = sorted(most_common_favorites.items(), key=operator.itemgetter(1), reverse=True)[:N]\n",
    "    top_N = [x[0] for x in sorted_list]\n",
    "    return top_N  "
   ]
  },
  {
   "cell_type": "code",
   "execution_count": 13,
   "metadata": {
    "execution": {
     "iopub.execute_input": "2022-06-19T12:56:05.107493Z",
     "iopub.status.busy": "2022-06-19T12:56:05.106844Z",
     "iopub.status.idle": "2022-06-19T12:56:06.566435Z",
     "shell.execute_reply": "2022-06-19T12:56:06.565785Z",
     "shell.execute_reply.started": "2022-06-19T12:56:05.107460Z"
    }
   },
   "outputs": [
    {
     "data": {
      "text/plain": [
       "[111, 41569, 60040]"
      ]
     },
     "execution_count": 13,
     "metadata": {},
     "output_type": "execute_result"
    }
   ],
   "source": [
    "collab_generate_top_N_recommendations(3)"
   ]
  },
  {
   "cell_type": "code",
   "execution_count": 14,
   "metadata": {
    "execution": {
     "iopub.execute_input": "2022-06-19T12:56:06.567748Z",
     "iopub.status.busy": "2022-06-19T12:56:06.567374Z",
     "iopub.status.idle": "2022-06-19T12:56:06.579942Z",
     "shell.execute_reply": "2022-06-19T12:56:06.579099Z",
     "shell.execute_reply.started": "2022-06-19T12:56:06.567721Z"
    }
   },
   "outputs": [
    {
     "data": {
      "text/html": [
       "<div>\n",
       "<style scoped>\n",
       "    .dataframe tbody tr th:only-of-type {\n",
       "        vertical-align: middle;\n",
       "    }\n",
       "\n",
       "    .dataframe tbody tr th {\n",
       "        vertical-align: top;\n",
       "    }\n",
       "\n",
       "    .dataframe thead th {\n",
       "        text-align: right;\n",
       "    }\n",
       "</style>\n",
       "<table border=\"1\" class=\"dataframe\">\n",
       "  <thead>\n",
       "    <tr style=\"text-align: right;\">\n",
       "      <th></th>\n",
       "      <th>movieId</th>\n",
       "      <th>rating</th>\n",
       "    </tr>\n",
       "  </thead>\n",
       "  <tbody>\n",
       "    <tr>\n",
       "      <th>6044922</th>\n",
       "      <td>111</td>\n",
       "      <td>4.0</td>\n",
       "    </tr>\n",
       "    <tr>\n",
       "      <th>9721008</th>\n",
       "      <td>60040</td>\n",
       "      <td>3.0</td>\n",
       "    </tr>\n",
       "    <tr>\n",
       "      <th>1488816</th>\n",
       "      <td>41569</td>\n",
       "      <td>3.0</td>\n",
       "    </tr>\n",
       "  </tbody>\n",
       "</table>\n",
       "</div>"
      ],
      "text/plain": [
       "         movieId  rating\n",
       "6044922      111     4.0\n",
       "9721008    60040     3.0\n",
       "1488816    41569     3.0"
      ]
     },
     "execution_count": 14,
     "metadata": {},
     "output_type": "execute_result"
    }
   ],
   "source": [
    "sampled_df[sampled_df['userId'] == 3][:][['movieId','rating']].sort_values(by='rating', ascending=False)[:10]"
   ]
  },
  {
   "cell_type": "code",
   "execution_count": 92,
   "metadata": {
    "execution": {
     "iopub.execute_input": "2022-06-19T12:56:06.581540Z",
     "iopub.status.busy": "2022-06-19T12:56:06.581171Z",
     "iopub.status.idle": "2022-06-19T12:56:06.589079Z",
     "shell.execute_reply": "2022-06-19T12:56:06.588348Z",
     "shell.execute_reply.started": "2022-06-19T12:56:06.581512Z"
    }
   },
   "outputs": [],
   "source": [
    "#Function to round predictions to rating scale\n",
    "def myround(x, base=0.5):\n",
    "    if x<0.5:\n",
    "        result=0.5\n",
    "    elif x>5:\n",
    "        result = 5.0\n",
    "    else:\n",
    "        result=base * round(x/base)\n",
    "    return result"
   ]
  },
  {
   "cell_type": "code",
   "execution_count": 93,
   "metadata": {
    "execution": {
     "iopub.execute_input": "2022-06-19T13:21:54.765693Z",
     "iopub.status.busy": "2022-06-19T13:21:54.765292Z",
     "iopub.status.idle": "2022-06-19T13:21:54.776220Z",
     "shell.execute_reply": "2022-06-19T13:21:54.775125Z",
     "shell.execute_reply.started": "2022-06-19T13:21:54.765663Z"
    }
   },
   "outputs": [],
   "source": [
    "def collab_generate_rating_estimate(movieId, userId, k=20, threshold=0.0):\n",
    "    # Gather the k users which are most similar to the reference user \n",
    "    if movieId in util_matrix.columns and userId in user_sim_df.columns:\n",
    "        sim_users = user_sim_df.sort_values(by=userId, ascending=False).index[1:k+1]\n",
    "        # Store the corresponding user's similarity values \n",
    "        user_values = user_sim_df.sort_values(by=userId, ascending=False).loc[:,userId].tolist()[1:k+1]\n",
    "        rating_list = [] # <-- List of k user's ratings for the reference item\n",
    "        weight_list = [] # <-- List of k user's similarities to the reference user\n",
    "\n",
    "        # Create a weighted sum for each of the k users who have rated the \n",
    "        # reference item (book).\n",
    "        for sim_idx, user_id in enumerate(sim_users):\n",
    "            # User's rating of the item\n",
    "            rating = util_matrix.loc[user_id, movieId]\n",
    "            # User's similarity to the reference user \n",
    "            similarity = user_values[sim_idx]\n",
    "            # Skip the user if they have not rated the item, or are too dissimilar to \n",
    "            # the reference user\n",
    "            if (np.isnan(rating)) or (similarity < threshold):\n",
    "                continue\n",
    "            elif not np.isnan(rating):\n",
    "                rating_list.append(rating*similarity)\n",
    "                weight_list.append(similarity)\n",
    "        array1 =np.array(rating_list)\n",
    "        array2 =np.array(weight_list)\n",
    "        try:\n",
    "            # Return the weighted sum as the predicted rating for the reference item\n",
    "            predicted_rating = np.exp(logsumexp(-3*array1) - logsumexp(-3*array2)) \n",
    "        except ZeroDivisionError:\n",
    "            # If no ratings for the reference item can be collected, return the average \n",
    "            # rating given by all users for the item.  \n",
    "            predicted_rating = sampled_df.loc[sampled_df['movieId'] == movieId, 'rating'].mean()\n",
    "    elif movieId not in util_matrix.columns and userId in user_sim_df.columns:\n",
    "        predicted_rating = sampled_df.loc[sampled_df['userId'] == userId, 'rating'].mean()\n",
    "    elif movieId in util_matrix.columns and userId not in user_sim_df.columns:\n",
    "        predicted_rating = sampled_df.loc[sampled_df['movieId'] == movieId, 'rating'].mean()\n",
    "    else:\n",
    "        predicted_rating = train_df['rating'].mean()\n",
    "    return myround(predicted_rating)"
   ]
  },
  {
   "cell_type": "code",
   "execution_count": 94,
   "metadata": {
    "execution": {
     "iopub.execute_input": "2022-06-19T13:22:04.733198Z",
     "iopub.status.busy": "2022-06-19T13:22:04.732768Z",
     "iopub.status.idle": "2022-06-19T13:22:04.739610Z",
     "shell.execute_reply": "2022-06-19T13:22:04.738687Z",
     "shell.execute_reply.started": "2022-06-19T13:22:04.733162Z"
    }
   },
   "outputs": [
    {
     "data": {
      "text/plain": [
       "5.0"
      ]
     },
     "execution_count": 94,
     "metadata": {},
     "output_type": "execute_result"
    }
   ],
   "source": [
    "collab_generate_rating_estimate(3,3)"
   ]
  },
  {
   "cell_type": "code",
   "execution_count": 95,
   "metadata": {
    "execution": {
     "iopub.execute_input": "2022-06-19T13:10:47.834556Z",
     "iopub.status.busy": "2022-06-19T13:10:47.833858Z",
     "iopub.status.idle": "2022-06-19T13:10:47.865417Z",
     "shell.execute_reply": "2022-06-19T13:10:47.864615Z",
     "shell.execute_reply.started": "2022-06-19T13:10:47.834520Z"
    }
   },
   "outputs": [
    {
     "name": "stdout",
     "output_type": "stream",
     "text": [
      "movieId - 5418\n",
      "---\n",
      "Actual rating: \t\t 5.0\n",
      "Predicted rating: \t 4.0\n"
     ]
    }
   ],
   "source": [
    "movie_id = 5418\n",
    "actual_rating = train_df[(train_df['userId'] == 2) & (train_df['movieId'] == movie_id)]['rating'].values[0]\n",
    "pred_rating = collab_generate_rating_estimate(movieId = movie_id, userId = 2)\n",
    "print (f\"movieId - {movie_id}\")\n",
    "print (\"---\")\n",
    "print (f\"Actual rating: \\t\\t {actual_rating}\")\n",
    "print (f\"Predicted rating: \\t {pred_rating}\")"
   ]
  },
  {
   "cell_type": "code",
   "execution_count": 97,
   "metadata": {
    "execution": {
     "iopub.execute_input": "2022-06-19T13:22:13.141907Z",
     "iopub.status.busy": "2022-06-19T13:22:13.140798Z",
     "iopub.status.idle": "2022-06-19T13:22:13.147006Z",
     "shell.execute_reply": "2022-06-19T13:22:13.146302Z",
     "shell.execute_reply.started": "2022-06-19T13:22:13.141867Z"
    }
   },
   "outputs": [],
   "source": [
    "s2_df=test_df.sample(n=100,random_state=2023)"
   ]
  },
  {
   "cell_type": "code",
   "execution_count": 98,
   "metadata": {
    "execution": {
     "iopub.execute_input": "2022-06-19T13:22:16.634092Z",
     "iopub.status.busy": "2022-06-19T13:22:16.633646Z",
     "iopub.status.idle": "2022-06-19T13:22:16.643769Z",
     "shell.execute_reply": "2022-06-19T13:22:16.642841Z",
     "shell.execute_reply.started": "2022-06-19T13:22:16.634028Z"
    }
   },
   "outputs": [
    {
     "data": {
      "text/html": [
       "<div>\n",
       "<style scoped>\n",
       "    .dataframe tbody tr th:only-of-type {\n",
       "        vertical-align: middle;\n",
       "    }\n",
       "\n",
       "    .dataframe tbody tr th {\n",
       "        vertical-align: top;\n",
       "    }\n",
       "\n",
       "    .dataframe thead th {\n",
       "        text-align: right;\n",
       "    }\n",
       "</style>\n",
       "<table border=\"1\" class=\"dataframe\">\n",
       "  <thead>\n",
       "    <tr style=\"text-align: right;\">\n",
       "      <th></th>\n",
       "      <th>userId</th>\n",
       "      <th>movieId</th>\n",
       "    </tr>\n",
       "  </thead>\n",
       "  <tbody>\n",
       "    <tr>\n",
       "      <th>2801</th>\n",
       "      <td>166</td>\n",
       "      <td>2380</td>\n",
       "    </tr>\n",
       "    <tr>\n",
       "      <th>486</th>\n",
       "      <td>459</td>\n",
       "      <td>207</td>\n",
       "    </tr>\n",
       "    <tr>\n",
       "      <th>6632</th>\n",
       "      <td>252</td>\n",
       "      <td>6537</td>\n",
       "    </tr>\n",
       "    <tr>\n",
       "      <th>9165</th>\n",
       "      <td>357</td>\n",
       "      <td>143271</td>\n",
       "    </tr>\n",
       "    <tr>\n",
       "      <th>3738</th>\n",
       "      <td>997</td>\n",
       "      <td>101895</td>\n",
       "    </tr>\n",
       "  </tbody>\n",
       "</table>\n",
       "</div>"
      ],
      "text/plain": [
       "      userId  movieId\n",
       "2801     166     2380\n",
       "486      459      207\n",
       "6632     252     6537\n",
       "9165     357   143271\n",
       "3738     997   101895"
      ]
     },
     "execution_count": 98,
     "metadata": {},
     "output_type": "execute_result"
    }
   ],
   "source": [
    "s2_df.head()"
   ]
  },
  {
   "cell_type": "code",
   "execution_count": 99,
   "metadata": {
    "execution": {
     "iopub.execute_input": "2022-06-19T13:22:25.936094Z",
     "iopub.status.busy": "2022-06-19T13:22:25.935672Z",
     "iopub.status.idle": "2022-06-19T13:22:31.923102Z",
     "shell.execute_reply": "2022-06-19T13:22:31.922240Z",
     "shell.execute_reply.started": "2022-06-19T13:22:25.936060Z"
    }
   },
   "outputs": [],
   "source": [
    "s2_df['pred_rating'] = s2_df.apply(lambda x: collab_generate_rating_estimate(x['movieId'], x['userId']), axis=1)"
   ]
  },
  {
   "cell_type": "code",
   "execution_count": 100,
   "metadata": {
    "execution": {
     "iopub.execute_input": "2022-06-19T13:22:39.104675Z",
     "iopub.status.busy": "2022-06-19T13:22:39.104275Z",
     "iopub.status.idle": "2022-06-19T13:22:39.114483Z",
     "shell.execute_reply": "2022-06-19T13:22:39.113311Z",
     "shell.execute_reply.started": "2022-06-19T13:22:39.104641Z"
    }
   },
   "outputs": [
    {
     "data": {
      "text/html": [
       "<div>\n",
       "<style scoped>\n",
       "    .dataframe tbody tr th:only-of-type {\n",
       "        vertical-align: middle;\n",
       "    }\n",
       "\n",
       "    .dataframe tbody tr th {\n",
       "        vertical-align: top;\n",
       "    }\n",
       "\n",
       "    .dataframe thead th {\n",
       "        text-align: right;\n",
       "    }\n",
       "</style>\n",
       "<table border=\"1\" class=\"dataframe\">\n",
       "  <thead>\n",
       "    <tr style=\"text-align: right;\">\n",
       "      <th></th>\n",
       "      <th>userId</th>\n",
       "      <th>movieId</th>\n",
       "      <th>pred_rating</th>\n",
       "    </tr>\n",
       "  </thead>\n",
       "  <tbody>\n",
       "    <tr>\n",
       "      <th>2801</th>\n",
       "      <td>166</td>\n",
       "      <td>2380</td>\n",
       "      <td>1.0</td>\n",
       "    </tr>\n",
       "    <tr>\n",
       "      <th>486</th>\n",
       "      <td>459</td>\n",
       "      <td>207</td>\n",
       "      <td>3.5</td>\n",
       "    </tr>\n",
       "    <tr>\n",
       "      <th>6632</th>\n",
       "      <td>252</td>\n",
       "      <td>6537</td>\n",
       "      <td>3.0</td>\n",
       "    </tr>\n",
       "    <tr>\n",
       "      <th>9165</th>\n",
       "      <td>357</td>\n",
       "      <td>143271</td>\n",
       "      <td>3.5</td>\n",
       "    </tr>\n",
       "    <tr>\n",
       "      <th>3738</th>\n",
       "      <td>997</td>\n",
       "      <td>101895</td>\n",
       "      <td>3.5</td>\n",
       "    </tr>\n",
       "  </tbody>\n",
       "</table>\n",
       "</div>"
      ],
      "text/plain": [
       "      userId  movieId  pred_rating\n",
       "2801     166     2380          1.0\n",
       "486      459      207          3.5\n",
       "6632     252     6537          3.0\n",
       "9165     357   143271          3.5\n",
       "3738     997   101895          3.5"
      ]
     },
     "execution_count": 100,
     "metadata": {},
     "output_type": "execute_result"
    }
   ],
   "source": [
    "s2_df.head()"
   ]
  },
  {
   "cell_type": "code",
   "execution_count": 46,
   "metadata": {
    "execution": {
     "iopub.execute_input": "2022-06-19T13:20:13.912746Z",
     "iopub.status.busy": "2022-06-19T13:20:13.912332Z",
     "iopub.status.idle": "2022-06-19T13:20:13.920224Z",
     "shell.execute_reply": "2022-06-19T13:20:13.919344Z",
     "shell.execute_reply.started": "2022-06-19T13:20:13.912712Z"
    }
   },
   "outputs": [],
   "source": [
    "test_df.shape"
   ]
  },
  {
   "cell_type": "code",
   "execution_count": 101,
   "metadata": {
    "execution": {
     "iopub.execute_input": "2022-06-19T13:21:13.616435Z",
     "iopub.status.busy": "2022-06-19T13:21:13.615819Z",
     "iopub.status.idle": "2022-06-19T13:21:28.752283Z",
     "shell.execute_reply": "2022-06-19T13:21:28.750947Z",
     "shell.execute_reply.started": "2022-06-19T13:21:13.616391Z"
    }
   },
   "outputs": [],
   "source": [
    "test_df['pred_rating'] = test_df.apply(lambda x: collab_generate_rating_estimate(x['movieId'], x['userId']), axis=1)"
   ]
  },
  {
   "cell_type": "code",
   "execution_count": 109,
   "metadata": {},
   "outputs": [],
   "source": [
    "def stringer(c, b):\n",
    "    return str(int(c))+'_'+str(int(b))"
   ]
  },
  {
   "cell_type": "code",
   "execution_count": 110,
   "metadata": {},
   "outputs": [],
   "source": [
    "test_df['Id'] = test_df.apply(lambda x: stringer(x['userId'], x['movieId']), axis=1)"
   ]
  },
  {
   "cell_type": "code",
   "execution_count": 111,
   "metadata": {},
   "outputs": [
    {
     "data": {
      "text/plain": [
       "(14310, 4)"
      ]
     },
     "execution_count": 111,
     "metadata": {},
     "output_type": "execute_result"
    }
   ],
   "source": [
    "test_df.shape"
   ]
  },
  {
   "cell_type": "code",
   "execution_count": 112,
   "metadata": {},
   "outputs": [
    {
     "data": {
      "text/html": [
       "<div>\n",
       "<style scoped>\n",
       "    .dataframe tbody tr th:only-of-type {\n",
       "        vertical-align: middle;\n",
       "    }\n",
       "\n",
       "    .dataframe tbody tr th {\n",
       "        vertical-align: top;\n",
       "    }\n",
       "\n",
       "    .dataframe thead th {\n",
       "        text-align: right;\n",
       "    }\n",
       "</style>\n",
       "<table border=\"1\" class=\"dataframe\">\n",
       "  <thead>\n",
       "    <tr style=\"text-align: right;\">\n",
       "      <th></th>\n",
       "      <th>userId</th>\n",
       "      <th>movieId</th>\n",
       "      <th>pred_rating</th>\n",
       "      <th>Id</th>\n",
       "    </tr>\n",
       "  </thead>\n",
       "  <tbody>\n",
       "    <tr>\n",
       "      <th>0</th>\n",
       "      <td>5</td>\n",
       "      <td>788</td>\n",
       "      <td>2.5</td>\n",
       "      <td>5_788</td>\n",
       "    </tr>\n",
       "    <tr>\n",
       "      <th>1</th>\n",
       "      <td>68</td>\n",
       "      <td>7438</td>\n",
       "      <td>4.0</td>\n",
       "      <td>68_7438</td>\n",
       "    </tr>\n",
       "    <tr>\n",
       "      <th>2</th>\n",
       "      <td>336</td>\n",
       "      <td>40412</td>\n",
       "      <td>4.0</td>\n",
       "      <td>336_40412</td>\n",
       "    </tr>\n",
       "    <tr>\n",
       "      <th>3</th>\n",
       "      <td>803</td>\n",
       "      <td>3822</td>\n",
       "      <td>5.0</td>\n",
       "      <td>803_3822</td>\n",
       "    </tr>\n",
       "    <tr>\n",
       "      <th>4</th>\n",
       "      <td>547</td>\n",
       "      <td>903</td>\n",
       "      <td>4.0</td>\n",
       "      <td>547_903</td>\n",
       "    </tr>\n",
       "  </tbody>\n",
       "</table>\n",
       "</div>"
      ],
      "text/plain": [
       "   userId  movieId  pred_rating         Id\n",
       "0       5      788          2.5      5_788\n",
       "1      68     7438          4.0    68_7438\n",
       "2     336    40412          4.0  336_40412\n",
       "3     803     3822          5.0   803_3822\n",
       "4     547      903          4.0    547_903"
      ]
     },
     "execution_count": 112,
     "metadata": {},
     "output_type": "execute_result"
    }
   ],
   "source": [
    "test_df.head()"
   ]
  },
  {
   "cell_type": "code",
   "execution_count": 116,
   "metadata": {},
   "outputs": [],
   "source": [
    "outer2 = test_df[['Id','pred_rating']]"
   ]
  },
  {
   "cell_type": "code",
   "execution_count": 120,
   "metadata": {},
   "outputs": [
    {
     "data": {
      "text/html": [
       "<div>\n",
       "<style scoped>\n",
       "    .dataframe tbody tr th:only-of-type {\n",
       "        vertical-align: middle;\n",
       "    }\n",
       "\n",
       "    .dataframe tbody tr th {\n",
       "        vertical-align: top;\n",
       "    }\n",
       "\n",
       "    .dataframe thead th {\n",
       "        text-align: right;\n",
       "    }\n",
       "</style>\n",
       "<table border=\"1\" class=\"dataframe\">\n",
       "  <thead>\n",
       "    <tr style=\"text-align: right;\">\n",
       "      <th></th>\n",
       "      <th>Id</th>\n",
       "      <th>pred_rating</th>\n",
       "      <th>rating</th>\n",
       "    </tr>\n",
       "  </thead>\n",
       "  <tbody>\n",
       "    <tr>\n",
       "      <th>0</th>\n",
       "      <td>5_788</td>\n",
       "      <td>2.5</td>\n",
       "      <td>2.5</td>\n",
       "    </tr>\n",
       "    <tr>\n",
       "      <th>1</th>\n",
       "      <td>68_7438</td>\n",
       "      <td>4.0</td>\n",
       "      <td>4.0</td>\n",
       "    </tr>\n",
       "    <tr>\n",
       "      <th>2</th>\n",
       "      <td>336_40412</td>\n",
       "      <td>4.0</td>\n",
       "      <td>4.0</td>\n",
       "    </tr>\n",
       "    <tr>\n",
       "      <th>3</th>\n",
       "      <td>803_3822</td>\n",
       "      <td>5.0</td>\n",
       "      <td>5.0</td>\n",
       "    </tr>\n",
       "    <tr>\n",
       "      <th>4</th>\n",
       "      <td>547_903</td>\n",
       "      <td>4.0</td>\n",
       "      <td>4.0</td>\n",
       "    </tr>\n",
       "  </tbody>\n",
       "</table>\n",
       "</div>"
      ],
      "text/plain": [
       "          Id  pred_rating  rating\n",
       "0      5_788          2.5     2.5\n",
       "1    68_7438          4.0     4.0\n",
       "2  336_40412          4.0     4.0\n",
       "3   803_3822          5.0     5.0\n",
       "4    547_903          4.0     4.0"
      ]
     },
     "execution_count": 120,
     "metadata": {},
     "output_type": "execute_result"
    }
   ],
   "source": [
    "outer2.head()"
   ]
  },
  {
   "cell_type": "code",
   "execution_count": 119,
   "metadata": {},
   "outputs": [
    {
     "name": "stderr",
     "output_type": "stream",
     "text": [
      "C:\\Users\\Z7541811\\AppData\\Local\\Temp/ipykernel_18448/2295370166.py:1: SettingWithCopyWarning: \n",
      "A value is trying to be set on a copy of a slice from a DataFrame.\n",
      "Try using .loc[row_indexer,col_indexer] = value instead\n",
      "\n",
      "See the caveats in the documentation: https://pandas.pydata.org/pandas-docs/stable/user_guide/indexing.html#returning-a-view-versus-a-copy\n",
      "  outer2['rating']=outer2['pred_rating']\n"
     ]
    }
   ],
   "source": [
    "outer2['rating']=outer2['pred_rating']"
   ]
  },
  {
   "cell_type": "code",
   "execution_count": 121,
   "metadata": {},
   "outputs": [],
   "source": [
    "Hope=outer2.drop([\"pred_rating\"],axis=1)"
   ]
  },
  {
   "cell_type": "code",
   "execution_count": 122,
   "metadata": {},
   "outputs": [],
   "source": [
    "Hope.to_csv(\"UnsupervisedSubmissionF.csv\", index=False)"
   ]
  },
  {
   "cell_type": "code",
   "execution_count": null,
   "metadata": {},
   "outputs": [],
   "source": []
  }
 ],
 "metadata": {
  "kernelspec": {
   "display_name": "Python 3 (ipykernel)",
   "language": "python",
   "name": "python3"
  },
  "language_info": {
   "codemirror_mode": {
    "name": "ipython",
    "version": 3
   },
   "file_extension": ".py",
   "mimetype": "text/x-python",
   "name": "python",
   "nbconvert_exporter": "python",
   "pygments_lexer": "ipython3",
   "version": "3.9.7"
  }
 },
 "nbformat": 4,
 "nbformat_minor": 4
}
